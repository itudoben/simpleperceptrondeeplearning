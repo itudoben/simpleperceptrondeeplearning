{
 "cells": [
  {
   "cell_type": "markdown",
   "metadata": {},
   "source": [
    "# Abstract\n",
    "This is an example written in Pyton from the meetup - https://www.meetup.com/Les-nuits-des-reseaux-de-neurones/events/251751287 - of a Deep Neural Network for the classification of three 5 pixels by 5 pixels images."
   ]
  },
  {
   "cell_type": "markdown",
   "metadata": {},
   "source": [
    "# Import the different libraries\n",
    "\n",
    "[NumPy](https://docs.scipy.org/doc/numpy/reference)\n",
    "\n",
    "[matplotlib](https://matplotlib.org/contents.html)"
   ]
  },
  {
   "cell_type": "code",
   "execution_count": 285,
   "metadata": {},
   "outputs": [],
   "source": [
    "import numpy as np\n",
    "import math as math\n",
    "import matplotlib.pyplot as plt"
   ]
  },
  {
   "cell_type": "markdown",
   "metadata": {},
   "source": [
    "## Transfer Method\n",
    "This Python function activates the neuron based on the specified parameter."
   ]
  },
  {
   "cell_type": "code",
   "execution_count": 293,
   "metadata": {},
   "outputs": [],
   "source": [
    "def transfer(v):\n",
    "    # The ReLu method. \n",
    "    # It could not make the net to converge to optimal weights during training.\n",
    "    # return v if v > 1 else 0\n",
    "\n",
    "    return math.tanh(v)"
   ]
  },
  {
   "cell_type": "markdown",
   "metadata": {},
   "source": [
    "## Perceptron\n",
    "The neuron intelligence to compute the activation value based on the initial matrix and the weight."
   ]
  },
  {
   "cell_type": "code",
   "execution_count": 287,
   "metadata": {},
   "outputs": [],
   "source": [
    "def perceptron(M, weight):\n",
    "    # Compute the matrix product i.e. the linear combination of the weight for each pixel.\n",
    "    # Sum(w(i,j) * M(i,j)) for all i,j in {0,1,2,3,4}\n",
    "    \n",
    "    # First reshape the matrix to a vector of size 25, reshape the weight matrix to a 25x1 matrix.\n",
    "    # Then compute the matrix product and get the result from the 1x1 matrix.\n",
    "    result = np.dot(np.reshape(M, 25), np.reshape(weight, (25, 1)))[0]\n",
    "    \n",
    "    # Compute the transfer (activation) value.\n",
    "    return transfer(result)"
   ]
  },
  {
   "cell_type": "markdown",
   "metadata": {},
   "source": [
    "## Weight Update\n",
    "This function updates the weight using the matrix, the weights for each image of the training set, the learning rate alpha and the labels i.e. the expected values for each image."
   ]
  },
  {
   "cell_type": "code",
   "execution_count": 301,
   "metadata": {},
   "outputs": [],
   "source": [
    "def updateweight(M, weights, alpha, label):\n",
    "    # Compute the approximations using the perceptron and create a matrix.\n",
    "    approx = np.array([perceptron(M, weights[0]), perceptron(M, weights[1]), perceptron(M, weights[2])])\n",
    "\n",
    "    # Compute the errors.\n",
    "    errs = label - approx\n",
    "\n",
    "    # Update the weights using the errors made on the matrix and the learning rate.\n",
    "    weights[0] += M * errs[0] * alpha\n",
    "    weights[1] += M * errs[1] * alpha\n",
    "    weights[2] += M * errs[2] * alpha"
   ]
  },
  {
   "cell_type": "markdown",
   "metadata": {},
   "source": [
    "## Net Training function\n",
    "This function trains the net using the training set made of images A, B and C to set the weights according to the labels.\n",
    "\n",
    "We also plot the perceptron values for each image as the net learns."
   ]
  },
  {
   "cell_type": "code",
   "execution_count": 302,
   "metadata": {},
   "outputs": [],
   "source": [
    "def train(iter_nb, A, B, C, weights, labels):\n",
    "    alpha = 0.01\n",
    "    \n",
    "    # Data for ploting.\n",
    "    iters = range(iter_nb)\n",
    "    y = np.empty((3, iter_nb))\n",
    "\n",
    "    for i in iters:\n",
    "        # Update the weight on the training set.\n",
    "        updateweight(A, weights, alpha, labels[0])\n",
    "        updateweight(B, weights, alpha, labels[1])\n",
    "        updateweight(C, weights, alpha, labels[2])\n",
    "\n",
    "        # Plot the perceptron only for one dimension on the weight for A, B and C.\n",
    "        y[0][i] = perceptron(A, weights[0])\n",
    "        y[1][i] = perceptron(B, weights[1])\n",
    "        y[2][i] = perceptron(C, weights[2])\n",
    "            \n",
    "    plt.plot(iters, y[0], linestyle='-', color='#FF9859', label='Learning on A')\n",
    "    plt.plot(iters, y[1], linestyle='-', color='#42AAA5', label='Learning on B')\n",
    "    plt.plot(iters, y[2], linestyle='-', color='#254044', label='Learning on C')\n",
    "    plt.ylabel('Perceptron Approximation')\n",
    "    \n",
    "    legend = plt.legend(loc='lower right', shadow=True, fontsize='x-large')\n",
    "\n",
    "    # Put a nicer background color on the legend.\n",
    "    legend.get_frame().set_facecolor('#E8EAE3')\n",
    "    \n",
    "    # Change size of the figure.\n",
    "#     plt.figure(figsize=(5,8))\n",
    "    \n",
    "    plt.show()"
   ]
  },
  {
   "cell_type": "markdown",
   "metadata": {},
   "source": [
    "## Data\n",
    "The training set made of image A, B and C is defined. \n",
    "The weights matrix is initialized per image with values different from 0s and 1s to avoid getting the training stuck.\n",
    "The labels are the expected values for each image, we define them arbitrarily."
   ]
  },
  {
   "cell_type": "code",
   "execution_count": 303,
   "metadata": {},
   "outputs": [
    {
     "name": "stdout",
     "output_type": "stream",
     "text": [
      "[[0.20571572 0.81991435 0.5222569  0.58945126 0.80042965]\n",
      " [0.58811034 0.07911394 0.07637095 0.35371647 0.02373179]\n",
      " [0.82383213 0.68096338 0.16383154 0.31901356 0.60686146]\n",
      " [0.81977613 0.01135405 0.97782615 0.38512949 0.44319683]\n",
      " [0.16755815 0.93567699 0.2060111  0.49677985 0.20891474]]\n",
      "[[0.14300217 0.87001516 0.46149085 0.13665434 0.70977797]\n",
      " [0.33338645 0.26413349 0.26074873 0.01733434 0.50118381]\n",
      " [0.27143445 0.85617402 0.42930919 0.04822728 0.39217591]\n",
      " [0.74522379 0.76373336 0.96355793 0.17106666 0.6258988 ]\n",
      " [0.16596006 0.63806446 0.01721982 0.44531116 0.57342165]]\n",
      "[[0.47349256 0.88465962 0.25422633 0.79892405 0.46405406]\n",
      " [0.79684379 0.2333289  0.56459267 0.40771737 0.94251176]\n",
      " [0.96639972 0.06405904 0.67700573 0.97716327 0.21092576]\n",
      " [0.43988644 0.45186015 0.08484733 0.67778281 0.02472324]\n",
      " [0.59187687 0.87583257 0.86734123 0.27608839 0.63644914]]\n"
     ]
    }
   ],
   "source": [
    "# Initial matrices of dimension 5 x 5 storing 3 images - A, B and C - depicting data to train on.\n",
    "A = np.array([[1, 0,0,0,0],\n",
    "            [0, 1,0,0,0],\n",
    "            [1, 0,1,0,0],\n",
    "            [0, 0,0,1,0],\n",
    "            [0, 0,0,0,1]])\n",
    "\n",
    "B = np.array([[1, 0,0,0,1],\n",
    "            [0, 1,0,1,0],\n",
    "            [1, 0,1,0,0],\n",
    "            [0, 1,0,1,0],\n",
    "            [1, 0,0,0,1]])\n",
    "\n",
    "C = np.array([[0, 0,0,0,1],\n",
    "            [0, 0,0,1,0],             \n",
    "            [1, 0,1,0,0],\n",
    "            [0, 1,0,0,0],\n",
    "            [1, 0,0,0,0]])\n",
    "\n",
    "# The initial weights defined randomly for each 5 x 5 images.\n",
    "# A 5 x 5 image has therefore 25 features that need to be weighted. \n",
    "# A 5 x 5 weight matrix is used per image.\n",
    "weights = np.array([np.random.rand(5,5), np.random.rand(5,5), np.random.rand(5,5)])\n",
    "print(weights[0])\n",
    "print(weights[1])\n",
    "print(weights[2])\n",
    "\n",
    "# Finally the label for each image A = (1,0,0), B = (0,1,0) and C = (0,0,1).\n",
    "# The labels have been defined upfront and is the expected value that \n",
    "# the Neural Network will try to model as close as possible using the weights.\n",
    "labels = np.array([[1,0,0],\n",
    "                   [0,1,0],\n",
    "                   [0,0,1]])"
   ]
  },
  {
   "cell_type": "markdown",
   "metadata": {},
   "source": [
    "## Training the model\n",
    "The model is trained using the training set, the weights and the labels.\n",
    "At the end of the run, the weights will be set and it is time to check with the test set how it performs."
   ]
  },
  {
   "cell_type": "code",
   "execution_count": 304,
   "metadata": {},
   "outputs": [
    {
     "data": {
      "image/png": "[encoded data removed]",
      "text/plain": [
       "<Figure size 432x288 with 1 Axes>"
      ]
     },
     "metadata": {
      "needs_background": "light"
     },
     "output_type": "display_data"
    }
   ],
   "source": [
    "train(3000, A, B, C, weights, labels)"
   ]
  },
  {
   "cell_type": "markdown",
   "metadata": {},
   "source": [
    "## Testing with A"
   ]
  },
  {
   "cell_type": "code",
   "execution_count": 305,
   "metadata": {},
   "outputs": [
    {
     "name": "stdout",
     "output_type": "stream",
     "text": [
      "Label: [1 0 0]\n",
      "Approx:  [0.9859788944055374, 0.013916021240294504, -0.009587544769696851]\n"
     ]
    }
   ],
   "source": [
    "print(\"Label:\",labels[0])\n",
    "print(\"Approx: \", [perceptron(A, weights[0]), perceptron(A, weights[1]), perceptron(A, weights[2])])"
   ]
  },
  {
   "cell_type": "markdown",
   "metadata": {},
   "source": [
    "## Testing with B"
   ]
  },
  {
   "cell_type": "code",
   "execution_count": 306,
   "metadata": {},
   "outputs": [
    {
     "name": "stdout",
     "output_type": "stream",
     "text": [
      "Label: [0 1 0]\n",
      "Approx:  [0.013384224535022561, 0.9815604030502074, 0.013613073734206857]\n"
     ]
    }
   ],
   "source": [
    "print(\"Label:\",labels[1])\n",
    "print(\"Approx: \", [perceptron(B, weights[0]), perceptron(B, weights[1]), perceptron(B, weights[2])])"
   ]
  },
  {
   "cell_type": "markdown",
   "metadata": {},
   "source": [
    "## Testing with C"
   ]
  },
  {
   "cell_type": "code",
   "execution_count": 307,
   "metadata": {},
   "outputs": [
    {
     "name": "stdout",
     "output_type": "stream",
     "text": [
      "Label: [0 0 1]\n",
      "Approx:  [-0.00903383029481281, 0.013078857414579958, 0.9860407774929018]\n"
     ]
    }
   ],
   "source": [
    "print(\"Label:\",labels[2])\n",
    "print(\"Approx: \", [perceptron(C, weights[0]), perceptron(C, weights[1]), perceptron(C, weights[2])])"
   ]
  }
 ],
 "metadata": {
  "kernelspec": {
   "display_name": "Python 3",
   "language": "python",
   "name": "python3"
  },
  "language_info": {
   "codemirror_mode": {
    "name": "ipython",
    "version": 3
   },
   "file_extension": ".py",
   "mimetype": "text/x-python",
   "name": "python",
   "nbconvert_exporter": "python",
   "pygments_lexer": "ipython3",
   "version": "3.6.6"
  }
 },
 "nbformat": 4,
 "nbformat_minor": 2
}
