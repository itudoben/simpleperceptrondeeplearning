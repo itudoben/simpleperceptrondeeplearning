{
 "cells": [
  {
   "cell_type": "markdown",
   "metadata": {},
   "source": [
    "# Abstract\n",
    "This is an example written in Pyton from the meetup - https://www.meetup.com/Les-nuits-des-reseaux-de-neurones/events/251751287 - of a Deep Neural Network for the classification of three 5 pixels by 5 pixels images."
   ]
  },
  {
   "cell_type": "markdown",
   "metadata": {},
   "source": [
    "# Import the different libraries\n",
    "\n",
    "[NumPy](https://docs.scipy.org/doc/numpy/reference)\n",
    "\n",
    "[matplotlib](https://matplotlib.org/contents.html)"
   ]
  },
  {
   "cell_type": "code",
   "execution_count": 1,
   "metadata": {},
   "outputs": [],
   "source": [
    "import numpy as np\n",
    "import math as math\n",
    "import matplotlib.pyplot as plt"
   ]
  },
  {
   "cell_type": "markdown",
   "metadata": {},
   "source": [
    "## Transfer Method\n",
    "This Python function activates the neuron based on the specified parameter."
   ]
  },
  {
   "cell_type": "code",
   "execution_count": 2,
   "metadata": {},
   "outputs": [],
   "source": [
    "def transfer(v):\n",
    "    # The ReLu method. \n",
    "    # It could not make the net to converge to optimal weights during training.\n",
    "    # return v if v > 1 else 0\n",
    "\n",
    "    return math.tanh(v)"
   ]
  },
  {
   "cell_type": "markdown",
   "metadata": {},
   "source": [
    "## Perceptron\n",
    "The neuron intelligence to compute the activation value based on the initial matrix and the weight."
   ]
  },
  {
   "cell_type": "code",
   "execution_count": 3,
   "metadata": {},
   "outputs": [],
   "source": [
    "def perceptron(M, weight):\n",
    "    # Compute the matrix product i.e. the linear combination of the weight for each pixel.\n",
    "    # Sum(w(i,j) * M(i,j)) for all i,j in {0,1,2,3,4}\n",
    "    \n",
    "    # First reshape the matrix to a vector of size 25, reshape the weight matrix to a 25x1 matrix.\n",
    "    # Then compute the matrix product and get the result from the 1x1 matrix.\n",
    "    result = np.dot(np.reshape(M, 25), np.reshape(weight, (25, 1)))[0]\n",
    "    \n",
    "    # Compute the transfer (activation) value.\n",
    "    return transfer(result)"
   ]
  },
  {
   "cell_type": "markdown",
   "metadata": {},
   "source": [
    "## Weight Update\n",
    "This function updates the weight using the matrix, the weights for each image of the training set, the learning rate alpha and the labels i.e. the expected values for each image."
   ]
  },
  {
   "cell_type": "code",
   "execution_count": 4,
   "metadata": {},
   "outputs": [],
   "source": [
    "def updateweight(M, weights, alpha, label):\n",
    "    # Compute the approximations using the perceptron and create a matrix.\n",
    "    approx = np.array([perceptron(M, weights[0]), perceptron(M, weights[1]), perceptron(M, weights[2])])\n",
    "\n",
    "    # Compute the errors.\n",
    "    errs = label - approx\n",
    "\n",
    "    # Update the weights using the errors made on the matrix and the learning rate.\n",
    "    weights[0] += M * errs[0] * alpha\n",
    "    weights[1] += M * errs[1] * alpha\n",
    "    weights[2] += M * errs[2] * alpha"
   ]
  },
  {
   "cell_type": "markdown",
   "metadata": {},
   "source": [
    "## Net Training function\n",
    "This function trains the net using the training set made of images A, B and C to set the weights according to the labels.\n",
    "\n",
    "We also plot the perceptron values for each image as the net learns."
   ]
  },
  {
   "cell_type": "code",
   "execution_count": 5,
   "metadata": {},
   "outputs": [],
   "source": [
    "def train(iter_nb, A, B, C, weights, labels):\n",
    "    alpha = 0.01\n",
    "    \n",
    "    # Data for ploting.\n",
    "    iters = range(iter_nb)\n",
    "    y = np.empty((3, iter_nb))\n",
    "\n",
    "    for i in iters:\n",
    "        # Update the weight on the training set.\n",
    "        updateweight(A, weights, alpha, labels[0])\n",
    "        updateweight(B, weights, alpha, labels[1])\n",
    "        updateweight(C, weights, alpha, labels[2])\n",
    "\n",
    "        # Plot the perceptron only for one dimension on the weight for A, B and C.\n",
    "        y[0][i] = perceptron(A, weights[0])\n",
    "        y[1][i] = perceptron(B, weights[1])\n",
    "        y[2][i] = perceptron(C, weights[2])\n",
    "            \n",
    "    plt.plot(iters, y[0], linestyle='-', color='#FF9859', label='Learning on A')\n",
    "    plt.plot(iters, y[1], linestyle='-', color='#42AAA5', label='Learning on B')\n",
    "    plt.plot(iters, y[2], linestyle='-', color='#254044', label='Learning on C')\n",
    "    plt.ylabel('Perceptron Approximation')\n",
    "    \n",
    "    legend = plt.legend(loc='lower right', shadow=True, fontsize='x-large')\n",
    "\n",
    "    # Put a nicer background color on the legend.\n",
    "    legend.get_frame().set_facecolor('#E8EAE3')\n",
    "    \n",
    "    # Change size of the figure.\n",
    "#     plt.figure(figsize=(5,8))\n",
    "    \n",
    "    plt.show()"
   ]
  },
  {
   "cell_type": "markdown",
   "metadata": {},
   "source": [
    "## Data\n",
    "The training set made of image A, B and C is defined. \n",
    "The weights matrix is initialized per image with values different from 0s and 1s to avoid getting the training stuck.\n",
    "The labels are the expected values for each image, we define them arbitrarily."
   ]
  },
  {
   "cell_type": "code",
   "execution_count": 6,
   "metadata": {},
   "outputs": [
    {
     "name": "stdout",
     "output_type": "stream",
     "text": [
      "[[0.28424096 0.84080396 0.15373149 0.23940199 0.31568059]\n",
      " [0.55861619 0.85096079 0.85335421 0.9003326  0.10355396]\n",
      " [0.32647368 0.12115428 0.50026938 0.16479803 0.49165311]\n",
      " [0.4412922  0.7863156  0.09843835 0.35306368 0.67098224]\n",
      " [0.41534852 0.29659763 0.43830346 0.49503395 0.80288901]]\n",
      "[[0.64388625 0.07023013 0.92852459 0.54334917 0.65144105]\n",
      " [0.90636965 0.62081804 0.67968082 0.88765725 0.11497358]\n",
      " [0.29880315 0.12154731 0.51156471 0.5325517  0.07660143]\n",
      " [0.22579637 0.75177919 0.46555562 0.56193436 0.63454332]\n",
      " [0.39461382 0.05784032 0.74202785 0.20624825 0.40141742]]\n",
      "[[0.01127726 0.29302999 0.44607898 0.36170914 0.04516555]\n",
      " [0.60962586 0.22513148 0.13104517 0.02177712 0.67781121]\n",
      " [0.76606146 0.32286747 0.33113431 0.76580898 0.19806653]\n",
      " [0.84204014 0.42354831 0.04502073 0.29113526 0.81292703]\n",
      " [0.5286419  0.37901013 0.70806755 0.38479646 0.71728087]]\n"
     ]
    }
   ],
   "source": [
    "# Initial matrices of dimension 5 x 5 storing 3 images - A, B and C - depicting data to train on.\n",
    "A = np.array([[1, 0,0,0,0],\n",
    "            [0, 1,0,0,0],\n",
    "            [1, 0,1,0,0],\n",
    "            [0, 0,0,1,0],\n",
    "            [0, 0,0,0,1]])\n",
    "\n",
    "B = np.array([[1, 0,0,0,1],\n",
    "            [0, 1,0,1,0],\n",
    "            [1, 0,1,0,0],\n",
    "            [0, 1,0,1,0],\n",
    "            [1, 0,0,0,1]])\n",
    "\n",
    "C = np.array([[0, 0,0,0,1],\n",
    "            [0, 0,0,1,0],             \n",
    "            [1, 0,1,0,0],\n",
    "            [0, 1,0,0,0],\n",
    "            [1, 0,0,0,0]])\n",
    "\n",
    "# The initial weights defined randomly for each 5 x 5 images.\n",
    "# A 5 x 5 image has therefore 25 features that need to be weighted. \n",
    "# A 5 x 5 weight matrix is used per image.\n",
    "weights = np.array([np.random.rand(5,5), np.random.rand(5,5), np.random.rand(5,5)])\n",
    "print(weights[0])\n",
    "print(weights[1])\n",
    "print(weights[2])\n",
    "\n",
    "# Finally the label for each image A = (1,0,0), B = (0,1,0) and C = (0,0,1).\n",
    "# The labels have been defined upfront and is the expected value that \n",
    "# the Neural Network will try to model as close as possible using the weights.\n",
    "labels = np.array([[1,0,0],\n",
    "                   [0,1,0],\n",
    "                   [0,0,1]])"
   ]
  },
  {
   "cell_type": "markdown",
   "metadata": {},
   "source": [
    "## Training the model\n",
    "The model is trained using the training set, the weights and the labels.\n",
    "At the end of the run, the weights will be set and it is time to check with the test set how it performs."
   ]
  },
  {
   "cell_type": "code",
   "execution_count": 7,
   "metadata": {},
   "outputs": [
    {
     "data": {
      "image/png": "[encoded data removed]",
      "text/plain": [
       "<Figure size 432x288 with 1 Axes>"
      ]
     },
     "metadata": {
      "needs_background": "light"
     },
     "output_type": "display_data"
    }
   ],
   "source": [
    "train(3000, A, B, C, weights, labels)"
   ]
  },
  {
   "cell_type": "markdown",
   "metadata": {},
   "source": [
    "## Testing with A"
   ]
  },
  {
   "cell_type": "code",
   "execution_count": 8,
   "metadata": {},
   "outputs": [
    {
     "name": "stdout",
     "output_type": "stream",
     "text": [
      "Label: [1 0 0]\n",
      "Approx:  [0.9852743684167198, 0.013208121251730943, -0.00956213680429757]\n"
     ]
    }
   ],
   "source": [
    "print(\"Label:\",labels[0])\n",
    "print(\"Approx: \", [perceptron(A, weights[0]), perceptron(A, weights[1]), perceptron(A, weights[2])])"
   ]
  },
  {
   "cell_type": "markdown",
   "metadata": {},
   "source": [
    "## Testing with B"
   ]
  },
  {
   "cell_type": "code",
   "execution_count": 9,
   "metadata": {},
   "outputs": [
    {
     "name": "stdout",
     "output_type": "stream",
     "text": [
      "Label: [0 1 0]\n",
      "Approx:  [0.014067466084371004, 0.9824930575992369, 0.013577479796610533]\n"
     ]
    }
   ],
   "source": [
    "print(\"Label:\",labels[1])\n",
    "print(\"Approx: \", [perceptron(B, weights[0]), perceptron(B, weights[1]), perceptron(B, weights[2])])"
   ]
  },
  {
   "cell_type": "markdown",
   "metadata": {},
   "source": [
    "## Testing with C"
   ]
  },
  {
   "cell_type": "code",
   "execution_count": 10,
   "metadata": {},
   "outputs": [
    {
     "name": "stdout",
     "output_type": "stream",
     "text": [
      "Label: [0 0 1]\n",
      "Approx:  [-0.009500757492392316, 0.012413639549413833, 0.986076719401224]\n"
     ]
    }
   ],
   "source": [
    "print(\"Label:\",labels[2])\n",
    "print(\"Approx: \", [perceptron(C, weights[0]), perceptron(C, weights[1]), perceptron(C, weights[2])])"
   ]
  },
  {
   "cell_type": "markdown",
   "metadata": {},
   "source": [
    "# Test on unknown piece of data\n",
    "Following test will run on a new piece of data that it has never seen before to see how well the net performs."
   ]
  },
  {
   "cell_type": "code",
   "execution_count": 12,
   "metadata": {},
   "outputs": [
    {
     "name": "stdout",
     "output_type": "stream",
     "text": [
      "Label: unknown\n",
      "Approx:  [0.9932625239683548, 0.9416710681115646, 0.9816586977748685]\n"
     ]
    }
   ],
   "source": [
    "Z = np.array([[0, 0,1,0,0],\n",
    "            [0, 0,1,0,0],\n",
    "            [0, 0,1,0,0],\n",
    "            [0, 0,1,0,0],\n",
    "            [0, 0,1,0,0]])\n",
    "\n",
    "print(\"Label:\", 'unknown')\n",
    "print(\"Approx: \", [perceptron(Z, weights[0]), perceptron(Z, weights[1]), perceptron(Z, weights[2])])"
   ]
  }
 ],
 "metadata": {
  "kernelspec": {
   "display_name": "Python 3",
   "language": "python",
   "name": "python3"
  },
  "language_info": {
   "codemirror_mode": {
    "name": "ipython",
    "version": 3
   },
   "file_extension": ".py",
   "mimetype": "text/x-python",
   "name": "python",
   "nbconvert_exporter": "python",
   "pygments_lexer": "ipython3",
   "version": "3.6.6"
  }
 },
 "nbformat": 4,
 "nbformat_minor": 2
}
