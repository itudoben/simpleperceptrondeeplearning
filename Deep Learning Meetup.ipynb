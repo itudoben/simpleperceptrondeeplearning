{
 "cells": [
  {
   "cell_type": "code",
   "execution_count": 19,
   "metadata": {},
   "outputs": [],
   "source": [
    "import numpy as np\n",
    "import math as math"
   ]
  },
  {
   "cell_type": "markdown",
   "metadata": {},
   "source": [
    "# Abstract\n",
    "Exercice on Deep Learning"
   ]
  },
  {
   "cell_type": "code",
   "execution_count": 20,
   "metadata": {},
   "outputs": [],
   "source": [
    "def transfer(r):\n",
    "#     return r if r > 1 else 0\n",
    "    return math.tanh(r)"
   ]
  },
  {
   "cell_type": "code",
   "execution_count": 21,
   "metadata": {},
   "outputs": [],
   "source": [
    "def perceptron(m, p):\n",
    "    r = 0\n",
    "    # TODO: run it as a matrices product \n",
    "    \n",
    "    for i in range(5):\n",
    "        for j in range(5):\n",
    "            r += m[i][j] * p[i][j]\n",
    "    \n",
    "    return transfer(r)"
   ]
  },
  {
   "cell_type": "code",
   "execution_count": 22,
   "metadata": {},
   "outputs": [],
   "source": [
    "def updateWeight(M, weights, alpha, label):\n",
    "    # Compute the approximations using the perceptron.\n",
    "    approx = np.array([perceptron(M, weights[0]), perceptron(M, weights[1]), perceptron(M, weights[2])])\n",
    "\n",
    "    # Compute the errors.\n",
    "    errs = label - approx\n",
    "\n",
    "    # Update the weights using the errors made on the matrix and the learning rate.\n",
    "    weights[0] += M * errs[0] * alpha\n",
    "    weights[1] += M * errs[1] * alpha\n",
    "    weights[2] += M * errs[2] * alpha\n"
   ]
  },
  {
   "cell_type": "code",
   "execution_count": 25,
   "metadata": {},
   "outputs": [],
   "source": [
    "def train(iters, A, B, C, weights, labels):\n",
    "    alpha = 0.01\n",
    "    \n",
    "    for i in range(iters):\n",
    "        # Update the weight on the training set\n",
    "        updateWeight(A, weights, alpha, labels[0])\n",
    "        updateWeight(B, weights, alpha, labels[1])\n",
    "        updateWeight(C, weights, alpha, labels[2])\n",
    "        \n",
    "        if (i % 500 == 0):\n",
    "            print(weights[0])"
   ]
  },
  {
   "cell_type": "code",
   "execution_count": 47,
   "metadata": {},
   "outputs": [
    {
     "name": "stdout",
     "output_type": "stream",
     "text": [
      "[[1 0 0 0 0]\n",
      " [0 1 0 0 0]\n",
      " [1 0 1 0 0]\n",
      " [0 0 0 1 0]\n",
      " [0 0 0 0 1]]\n",
      "[[0.48779493 0.07534346 0.84368623 0.957497   0.75004553]\n",
      " [0.81853995 0.61797005 0.68115007 0.26504472 0.68014459]\n",
      " [0.76744616 0.38656426 0.03497428 0.03834802 0.05164136]\n",
      " [0.90066369 0.00413463 0.20312149 0.14497022 0.39206359]\n",
      " [0.33430406 0.11236223 0.35471249 0.7209308  0.86728549]]\n",
      "[[0.48003683 0.13982316 0.47540019 0.82859234 0.85196183]\n",
      " [0.61572238 0.53177245 0.3291518  0.57027379 0.02848277]\n",
      " [0.89871419 0.97305942 0.53177837 0.94626145 0.53562615]\n",
      " [0.02369485 0.61558803 0.78604569 0.61110471 0.81362279]\n",
      " [0.44608943 0.02385323 0.70658467 0.59374128 0.65433701]]\n",
      "[[0.43774623 0.45160543 0.27327281 0.82465318 0.58592872]\n",
      " [0.24591448 0.43274428 0.28127966 0.75814586 0.44738835]\n",
      " [0.20975762 0.05994173 0.53806605 0.95728238 0.96372673]\n",
      " [0.14144481 0.77930505 0.63168991 0.81248741 0.78687301]\n",
      " [0.25327055 0.71071018 0.62410521 0.70580307 0.44280837]]\n",
      "[1 0 0]\n"
     ]
    }
   ],
   "source": [
    "# Initial matrices of dimension 5 x 5 storing 3 images - A, B and C - depicting data to train on.\n",
    "A = np.array([[1, 0,0,0,0],\n",
    "            [0, 1,0,0,0],\n",
    "            [1, 0,1,0,0],\n",
    "            [0, 0,0,1,0],\n",
    "            [0, 0,0,0,1]])\n",
    "\n",
    "B = np.array([[1, 0,0,0,1],\n",
    "            [0, 1,0,1,0],\n",
    "            [1, 0,1,0,0],\n",
    "            [0, 1,0,1,0],\n",
    "            [1, 0,0,0,1]])\n",
    "\n",
    "C = np.array([[0, 0,0,0,1],\n",
    "            [0, 0,0,1,0],             \n",
    "            [1, 0,1,0,0],\n",
    "            [0, 1,0,0,0],\n",
    "            [1, 0,0,0,0]])\n",
    "\n",
    "# The initial weights defined randomly for each 5 x 5 images.\n",
    "# A 5 x 5 image has therefore 25 features that need to be weighted. \n",
    "# A 5 x 5 weight matrix is used per image.\n",
    "weights = np.array([np.random.rand(5,5), np.random.rand(5,5), np.random.rand(5,5)])\n",
    "print(weights[0])\n",
    "print(weights[1])\n",
    "print(weights[2])\n",
    "\n",
    "# Finally the label for each image A = (1,0,0), B = (0,1,0) and C = (0,0,1).\n",
    "# The labels have been defined upfront and is the expected value that \n",
    "# the Neural Network will try to model as close as possible using the weights.\n",
    "labels = np.array([[1,0,0],\n",
    "                   [0,1,0],\n",
    "                   [0,0,1]])"
   ]
  },
  {
   "cell_type": "code",
   "execution_count": 28,
   "metadata": {},
   "outputs": [
    {
     "data": {
      "text/plain": [
       "array([[0.6434845 , 0.        , 0.        , 0.        , 0.        ],\n",
       "       [0.        , 0.006199  , 0.        , 0.        , 0.        ],\n",
       "       [0.555235  , 0.        , 0.65179176, 0.        , 0.        ],\n",
       "       [0.        , 0.        , 0.        , 0.65460638, 0.        ],\n",
       "       [0.        , 0.        , 0.        , 0.        , 0.70151033]])"
      ]
     },
     "execution_count": 28,
     "metadata": {},
     "output_type": "execute_result"
    }
   ],
   "source": [
    "A * weights[0] * np.ones((5), dtype=np.int16) #* np.ones((5), dtype=np.int16) "
   ]
  },
  {
   "cell_type": "code",
   "execution_count": 29,
   "metadata": {},
   "outputs": [
    {
     "name": "stdout",
     "output_type": "stream",
     "text": [
      "[[ 0.6335175   0.15033192  0.87037025  0.16317523  0.16948393]\n",
      " [ 0.45732903 -0.003768    0.36412592  0.80360343  0.3122633 ]\n",
      " [ 0.53530896  0.94235925  0.63186572  0.76135429  0.14008227]\n",
      " [ 0.94883842  0.25266436  0.10590858  0.64463938  0.65648018]\n",
      " [ 0.64163598  0.06299536  0.10096379  0.79624586  0.69154333]]\n",
      "[[ 0.18620717  0.15033192  0.87037025  0.16317523 -0.64077004]\n",
      " [ 0.45732903 -0.45107833  0.36412592 -0.00665054  0.3122633 ]\n",
      " [ 0.60167314  0.94235925  0.69822991  0.76135429  0.14008227]\n",
      " [ 0.94883842 -0.55758961  0.10590858  0.19732905  0.65648018]\n",
      " [-0.16861799  0.06299536  0.10096379  0.79624586  0.244233  ]]\n",
      "[[ 0.1622429   0.15033192  0.87037025  0.16317523 -0.74800953]\n",
      " [ 0.45732903 -0.47504259  0.36412592 -0.11389003  0.3122633 ]\n",
      " [ 0.8364624   0.94235925  0.93301917  0.76135429  0.14008227]\n",
      " [ 0.94883842 -0.6648291   0.10590858  0.17336479  0.65648018]\n",
      " [-0.27585748  0.06299536  0.10096379  0.79624586  0.22026874]]\n",
      "[[ 0.15462921  0.15033192  0.87037025  0.16317523 -0.80973668]\n",
      " [ 0.45732903 -0.48265629  0.36412592 -0.17561718  0.3122633 ]\n",
      " [ 0.96623421  0.94235925  1.06279098  0.76135429  0.14008227]\n",
      " [ 0.94883842 -0.72655625  0.10590858  0.16575109  0.65648018]\n",
      " [-0.33758463  0.06299536  0.10096379  0.79624586  0.21265504]]\n",
      "[[ 0.15107541  0.15033192  0.87037025  0.16317523 -0.85233312]\n",
      " [ 0.45732903 -0.48621009  0.36412592 -0.21821362  0.3122633 ]\n",
      " [ 1.0543449   0.94235925  1.15090166  0.76135429  0.14008227]\n",
      " [ 0.94883842 -0.76915269  0.10590858  0.16219729  0.65648018]\n",
      " [-0.38018106  0.06299536  0.10096379  0.79624586  0.20910124]]\n",
      "[[ 0.14905155  0.15033192  0.87037025  0.16317523 -0.88464969]\n",
      " [ 0.45732903 -0.48823394  0.36412592 -0.2505302   0.3122633 ]\n",
      " [ 1.12062982  0.94235925  1.21718658  0.76135429  0.14008227]\n",
      " [ 0.94883842 -0.80146927  0.10590858  0.16017344  0.65648018]\n",
      " [-0.41249764  0.06299536  0.10096379  0.79624586  0.20707739]]\n",
      "[[ 0.14775411  0.15033192  0.87037025  0.16317523 -0.91060781]\n",
      " [ 0.45732903 -0.48953138  0.36412592 -0.27648831  0.3122633 ]\n",
      " [ 1.17360095  0.94235925  1.27015771  0.76135429  0.14008227]\n",
      " [ 0.94883842 -0.82742738  0.10590858  0.158876    0.65648018]\n",
      " [-0.43845576  0.06299536  0.10096379  0.79624586  0.20577994]]\n",
      "[[ 0.14685491  0.15033192  0.87037025  0.16317523 -0.93226377]\n",
      " [ 0.45732903 -0.49043058  0.36412592 -0.29814427  0.3122633 ]\n",
      " [ 1.21764208  0.94235925  1.31419884  0.76135429  0.14008227]\n",
      " [ 0.94883842 -0.84908334  0.10590858  0.1579768   0.65648018]\n",
      " [-0.46011172  0.06299536  0.10096379  0.79624586  0.20488075]]\n",
      "[[ 0.14619646  0.15033192  0.87037025  0.16317523 -0.95082304]\n",
      " [ 0.45732903 -0.49108903  0.36412592 -0.31670355  0.3122633 ]\n",
      " [ 1.25529358  0.94235925  1.35185035  0.76135429  0.14008227]\n",
      " [ 0.94883842 -0.86764262  0.10590858  0.15731835  0.65648018]\n",
      " [-0.47867099  0.06299536  0.10096379  0.79624586  0.2042223 ]]\n",
      "[[ 0.1456942   0.15033192  0.87037025  0.16317523 -0.96705033]\n",
      " [ 0.45732903 -0.49159129  0.36412592 -0.33293084  0.3122633 ]\n",
      " [ 1.28815411  0.94235925  1.38471088  0.76135429  0.14008227]\n",
      " [ 0.94883842 -0.8838699   0.10590858  0.15681609  0.65648018]\n",
      " [-0.49489828  0.06299536  0.10096379  0.79624586  0.20372004]]\n"
     ]
    }
   ],
   "source": [
    "train(5000, A, B, C, weights, labels)"
   ]
  },
  {
   "cell_type": "code",
   "execution_count": 44,
   "metadata": {},
   "outputs": [
    {
     "name": "stdout",
     "output_type": "stream",
     "text": [
      "Label: [1 0 0]\n",
      "Approx:  [0.9917633773838656, 0.0076437280317644945, -0.005616028277755818]\n"
     ]
    }
   ],
   "source": [
    "print(\"Label:\",labels[0])\n",
    "print(\"Approx: \", [perceptron(A, weights[0]), perceptron(A, weights[1]), perceptron(A, weights[2])])"
   ]
  },
  {
   "cell_type": "code",
   "execution_count": 45,
   "metadata": {},
   "outputs": [
    {
     "name": "stdout",
     "output_type": "stream",
     "text": [
      "Label: [0 1 0]\n",
      "Approx:  [0.007813114377794377, 0.9898436913562886, 0.008019326463989436]\n"
     ]
    }
   ],
   "source": [
    "print(\"Label:\",labels[1])\n",
    "print(\"Approx: \", [perceptron(B, weights[0]), perceptron(B, weights[1]), perceptron(B, weights[2])])"
   ]
  },
  {
   "cell_type": "code",
   "execution_count": 46,
   "metadata": {},
   "outputs": [
    {
     "name": "stdout",
     "output_type": "stream",
     "text": [
      "Label: [0 0 1]\n",
      "Approx:  [-0.005247049560956765, 0.007184409341876041, 0.9917243156408974]\n"
     ]
    }
   ],
   "source": [
    "print(\"Label:\",labels[2])\n",
    "print(\"Approx: \", [perceptron(C, weights[0]), perceptron(C, weights[1]), perceptron(C, weights[2])])"
   ]
  }
 ],
 "metadata": {
  "kernelspec": {
   "display_name": "Python 3",
   "language": "python",
   "name": "python3"
  },
  "language_info": {
   "codemirror_mode": {
    "name": "ipython",
    "version": 3
   },
   "file_extension": ".py",
   "mimetype": "text/x-python",
   "name": "python",
   "nbconvert_exporter": "python",
   "pygments_lexer": "ipython3",
   "version": "3.6.6"
  }
 },
 "nbformat": 4,
 "nbformat_minor": 2
}
